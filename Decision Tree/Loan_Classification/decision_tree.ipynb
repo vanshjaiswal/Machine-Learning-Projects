{
 "cells": [
  {
   "cell_type": "code",
   "execution_count": 1,
   "metadata": {},
   "outputs": [
    {
     "data": {
      "text/plain": [
       "'\\nDecision Tree: Decision tree is a tree shaped diagram used to determine a course of action. Each branch of  the tree represents \\na possible decision.\\n\\nDecision tree is used for classification as well as for regression problems.\\n\\nEntropy: Degree of Randomness.\\nEntropy is  the measure of randomness or unpredicatability in the dataset.\\n\\nInformation gain: It is the measure of decrease in entropy after the dataset is split.\\n\\nGoal is to  reduce the entropy and increase the information gain in each split.\\nGini Index is a powerful measure of the randomness or the impurity or entropy in the values of a dataset. \\nGini Index aims to decrease the impurities from the root nodes (at the top of decision tree) \\nto the leaf nodes (vertical branches down the decision tree) of a decision tree model\\n\\n\\n\\nWhenever you are working with Tree based algorithm then there is NO NEED OF DATA PREPROCESSING (Normalization and Encoding)\\n'"
      ]
     },
     "execution_count": 1,
     "metadata": {},
     "output_type": "execute_result"
    }
   ],
   "source": [
    "'''\n",
    "Decision Tree: Decision tree is a tree shaped diagram used to determine a course of action. Each branch of  the tree represents \n",
    "a possible decision.\n",
    "\n",
    "Decision tree is used for classification as well as for regression problems.\n",
    "\n",
    "Entropy: Degree of Randomness.\n",
    "Entropy is  the measure of randomness or unpredicatability in the dataset.\n",
    "\n",
    "Information gain: It is the measure of decrease in entropy after the dataset is split.\n",
    "\n",
    "Goal is to  reduce the entropy and increase the information gain in each split.\n",
    "\n",
    "Whenever you are working with Tree based algorithm then there is NO NEED OF DATA PREPROCESSING (Normalization and Encoding) You have check NaN\n",
    "'''"
   ]
  },
  {
   "cell_type": "code",
   "execution_count": 1,
   "metadata": {},
   "outputs": [],
   "source": [
    "import numpy as np\n",
    "import pandas as pd\n",
    "\n",
    "from sklearn.model_selection import train_test_split\n",
    "\n",
    "from sklearn.tree import DecisionTreeClassifier\n",
    "\n",
    "from sklearn.metrics import accuracy_score\n",
    "from sklearn import tree"
   ]
  },
  {
   "cell_type": "code",
   "execution_count": 2,
   "metadata": {},
   "outputs": [],
   "source": [
    "balance_data = pd.read_csv('data/loan_data.csv')"
   ]
  },
  {
   "cell_type": "code",
   "execution_count": 3,
   "metadata": {},
   "outputs": [
    {
     "data": {
      "text/html": [
       "<div>\n",
       "<style scoped>\n",
       "    .dataframe tbody tr th:only-of-type {\n",
       "        vertical-align: middle;\n",
       "    }\n",
       "\n",
       "    .dataframe tbody tr th {\n",
       "        vertical-align: top;\n",
       "    }\n",
       "\n",
       "    .dataframe thead th {\n",
       "        text-align: right;\n",
       "    }\n",
       "</style>\n",
       "<table border=\"1\" class=\"dataframe\">\n",
       "  <thead>\n",
       "    <tr style=\"text-align: right;\">\n",
       "      <th></th>\n",
       "      <th>Unnamed: 0</th>\n",
       "      <th>Initial payment</th>\n",
       "      <th>Last payment</th>\n",
       "      <th>Credit Score</th>\n",
       "      <th>House Number</th>\n",
       "      <th>Result</th>\n",
       "    </tr>\n",
       "  </thead>\n",
       "  <tbody>\n",
       "    <tr>\n",
       "      <th>0</th>\n",
       "      <td>0</td>\n",
       "      <td>201</td>\n",
       "      <td>10018</td>\n",
       "      <td>250</td>\n",
       "      <td>3046</td>\n",
       "      <td>yes</td>\n",
       "    </tr>\n",
       "    <tr>\n",
       "      <th>1</th>\n",
       "      <td>1</td>\n",
       "      <td>205</td>\n",
       "      <td>10016</td>\n",
       "      <td>395</td>\n",
       "      <td>3044</td>\n",
       "      <td>yes</td>\n",
       "    </tr>\n",
       "    <tr>\n",
       "      <th>2</th>\n",
       "      <td>2</td>\n",
       "      <td>257</td>\n",
       "      <td>10129</td>\n",
       "      <td>109</td>\n",
       "      <td>3251</td>\n",
       "      <td>yes</td>\n",
       "    </tr>\n",
       "    <tr>\n",
       "      <th>3</th>\n",
       "      <td>3</td>\n",
       "      <td>246</td>\n",
       "      <td>10064</td>\n",
       "      <td>324</td>\n",
       "      <td>3137</td>\n",
       "      <td>yes</td>\n",
       "    </tr>\n",
       "    <tr>\n",
       "      <th>4</th>\n",
       "      <td>4</td>\n",
       "      <td>117</td>\n",
       "      <td>10115</td>\n",
       "      <td>496</td>\n",
       "      <td>3094</td>\n",
       "      <td>yes</td>\n",
       "    </tr>\n",
       "  </tbody>\n",
       "</table>\n",
       "</div>"
      ],
      "text/plain": [
       "   Unnamed: 0  Initial payment  Last payment  Credit Score  House Number  \\\n",
       "0           0              201         10018           250          3046   \n",
       "1           1              205         10016           395          3044   \n",
       "2           2              257         10129           109          3251   \n",
       "3           3              246         10064           324          3137   \n",
       "4           4              117         10115           496          3094   \n",
       "\n",
       "  Result  \n",
       "0    yes  \n",
       "1    yes  \n",
       "2    yes  \n",
       "3    yes  \n",
       "4    yes  "
      ]
     },
     "execution_count": 3,
     "metadata": {},
     "output_type": "execute_result"
    }
   ],
   "source": [
    "balance_data.head()"
   ]
  },
  {
   "cell_type": "code",
   "execution_count": 4,
   "metadata": {},
   "outputs": [
    {
     "data": {
      "text/plain": [
       "(1000, 6)"
      ]
     },
     "execution_count": 4,
     "metadata": {},
     "output_type": "execute_result"
    }
   ],
   "source": [
    "balance_data.shape"
   ]
  },
  {
   "cell_type": "code",
   "execution_count": 6,
   "metadata": {},
   "outputs": [
    {
     "name": "stdout",
     "output_type": "stream",
     "text": [
      "Dataset Lenght:: \n",
      "Dataset Shape:: \n"
     ]
    },
    {
     "data": {
      "text/plain": [
       "(None, (1000, 6))"
      ]
     },
     "execution_count": 6,
     "metadata": {},
     "output_type": "execute_result"
    }
   ],
   "source": [
    "print (\"Dataset Lenght:: \"), len(balance_data)\n",
    "print (\"Dataset Shape:: \"), balance_data.shape"
   ]
  },
  {
   "cell_type": "code",
   "execution_count": 6,
   "metadata": {},
   "outputs": [
    {
     "name": "stdout",
     "output_type": "stream",
     "text": [
      "Dataset:: \n"
     ]
    },
    {
     "data": {
      "text/html": [
       "<div>\n",
       "<style scoped>\n",
       "    .dataframe tbody tr th:only-of-type {\n",
       "        vertical-align: middle;\n",
       "    }\n",
       "\n",
       "    .dataframe tbody tr th {\n",
       "        vertical-align: top;\n",
       "    }\n",
       "\n",
       "    .dataframe thead th {\n",
       "        text-align: right;\n",
       "    }\n",
       "</style>\n",
       "<table border=\"1\" class=\"dataframe\">\n",
       "  <thead>\n",
       "    <tr style=\"text-align: right;\">\n",
       "      <th></th>\n",
       "      <th>Unnamed: 0</th>\n",
       "      <th>Initial payment</th>\n",
       "      <th>Last payment</th>\n",
       "      <th>Credit Score</th>\n",
       "      <th>House Number</th>\n",
       "      <th>Result</th>\n",
       "    </tr>\n",
       "  </thead>\n",
       "  <tbody>\n",
       "    <tr>\n",
       "      <th>0</th>\n",
       "      <td>0</td>\n",
       "      <td>201</td>\n",
       "      <td>10018</td>\n",
       "      <td>250</td>\n",
       "      <td>3046</td>\n",
       "      <td>yes</td>\n",
       "    </tr>\n",
       "    <tr>\n",
       "      <th>1</th>\n",
       "      <td>1</td>\n",
       "      <td>205</td>\n",
       "      <td>10016</td>\n",
       "      <td>395</td>\n",
       "      <td>3044</td>\n",
       "      <td>yes</td>\n",
       "    </tr>\n",
       "    <tr>\n",
       "      <th>2</th>\n",
       "      <td>2</td>\n",
       "      <td>257</td>\n",
       "      <td>10129</td>\n",
       "      <td>109</td>\n",
       "      <td>3251</td>\n",
       "      <td>yes</td>\n",
       "    </tr>\n",
       "    <tr>\n",
       "      <th>3</th>\n",
       "      <td>3</td>\n",
       "      <td>246</td>\n",
       "      <td>10064</td>\n",
       "      <td>324</td>\n",
       "      <td>3137</td>\n",
       "      <td>yes</td>\n",
       "    </tr>\n",
       "    <tr>\n",
       "      <th>4</th>\n",
       "      <td>4</td>\n",
       "      <td>117</td>\n",
       "      <td>10115</td>\n",
       "      <td>496</td>\n",
       "      <td>3094</td>\n",
       "      <td>yes</td>\n",
       "    </tr>\n",
       "  </tbody>\n",
       "</table>\n",
       "</div>"
      ],
      "text/plain": [
       "   Unnamed: 0  Initial payment  Last payment  Credit Score  House Number  \\\n",
       "0           0              201         10018           250          3046   \n",
       "1           1              205         10016           395          3044   \n",
       "2           2              257         10129           109          3251   \n",
       "3           3              246         10064           324          3137   \n",
       "4           4              117         10115           496          3094   \n",
       "\n",
       "  Result  \n",
       "0    yes  \n",
       "1    yes  \n",
       "2    yes  \n",
       "3    yes  \n",
       "4    yes  "
      ]
     },
     "execution_count": 6,
     "metadata": {},
     "output_type": "execute_result"
    }
   ],
   "source": [
    "print (\"Dataset:: \")\n",
    "balance_data.head()"
   ]
  },
  {
   "cell_type": "code",
   "execution_count": 8,
   "metadata": {},
   "outputs": [],
   "source": [
    "# yes: 1\n",
    "# No: 0"
   ]
  },
  {
   "cell_type": "code",
   "execution_count": 7,
   "metadata": {},
   "outputs": [],
   "source": [
    "balance_data.drop(columns=['Unnamed: 0',\"House Number\"] , inplace=True)"
   ]
  },
  {
   "cell_type": "code",
   "execution_count": 8,
   "metadata": {},
   "outputs": [
    {
     "data": {
      "text/html": [
       "<div>\n",
       "<style scoped>\n",
       "    .dataframe tbody tr th:only-of-type {\n",
       "        vertical-align: middle;\n",
       "    }\n",
       "\n",
       "    .dataframe tbody tr th {\n",
       "        vertical-align: top;\n",
       "    }\n",
       "\n",
       "    .dataframe thead th {\n",
       "        text-align: right;\n",
       "    }\n",
       "</style>\n",
       "<table border=\"1\" class=\"dataframe\">\n",
       "  <thead>\n",
       "    <tr style=\"text-align: right;\">\n",
       "      <th></th>\n",
       "      <th>Initial payment</th>\n",
       "      <th>Last payment</th>\n",
       "      <th>Credit Score</th>\n",
       "      <th>Result</th>\n",
       "    </tr>\n",
       "  </thead>\n",
       "  <tbody>\n",
       "    <tr>\n",
       "      <th>0</th>\n",
       "      <td>201</td>\n",
       "      <td>10018</td>\n",
       "      <td>250</td>\n",
       "      <td>yes</td>\n",
       "    </tr>\n",
       "    <tr>\n",
       "      <th>1</th>\n",
       "      <td>205</td>\n",
       "      <td>10016</td>\n",
       "      <td>395</td>\n",
       "      <td>yes</td>\n",
       "    </tr>\n",
       "    <tr>\n",
       "      <th>2</th>\n",
       "      <td>257</td>\n",
       "      <td>10129</td>\n",
       "      <td>109</td>\n",
       "      <td>yes</td>\n",
       "    </tr>\n",
       "    <tr>\n",
       "      <th>3</th>\n",
       "      <td>246</td>\n",
       "      <td>10064</td>\n",
       "      <td>324</td>\n",
       "      <td>yes</td>\n",
       "    </tr>\n",
       "    <tr>\n",
       "      <th>4</th>\n",
       "      <td>117</td>\n",
       "      <td>10115</td>\n",
       "      <td>496</td>\n",
       "      <td>yes</td>\n",
       "    </tr>\n",
       "  </tbody>\n",
       "</table>\n",
       "</div>"
      ],
      "text/plain": [
       "   Initial payment  Last payment  Credit Score Result\n",
       "0              201         10018           250    yes\n",
       "1              205         10016           395    yes\n",
       "2              257         10129           109    yes\n",
       "3              246         10064           324    yes\n",
       "4              117         10115           496    yes"
      ]
     },
     "execution_count": 8,
     "metadata": {},
     "output_type": "execute_result"
    }
   ],
   "source": [
    "balance_data.head()"
   ]
  },
  {
   "cell_type": "code",
   "execution_count": 9,
   "metadata": {},
   "outputs": [
    {
     "data": {
      "text/plain": [
       "Result\n",
       "No     521\n",
       "yes    479\n",
       "Name: count, dtype: int64"
      ]
     },
     "execution_count": 9,
     "metadata": {},
     "output_type": "execute_result"
    }
   ],
   "source": [
    "balance_data['Result'].value_counts()\n",
    "\n",
    "#P(y)=479/1000\n",
    "#P(n)=521/1000"
   ]
  },
  {
   "cell_type": "code",
   "execution_count": 11,
   "metadata": {},
   "outputs": [
    {
     "data": {
      "text/html": [
       "<div>\n",
       "<style scoped>\n",
       "    .dataframe tbody tr th:only-of-type {\n",
       "        vertical-align: middle;\n",
       "    }\n",
       "\n",
       "    .dataframe tbody tr th {\n",
       "        vertical-align: top;\n",
       "    }\n",
       "\n",
       "    .dataframe thead th {\n",
       "        text-align: right;\n",
       "    }\n",
       "</style>\n",
       "<table border=\"1\" class=\"dataframe\">\n",
       "  <thead>\n",
       "    <tr style=\"text-align: right;\">\n",
       "      <th></th>\n",
       "      <th>Initial payment</th>\n",
       "      <th>Last payment</th>\n",
       "      <th>Credit Score</th>\n",
       "      <th>Result</th>\n",
       "    </tr>\n",
       "  </thead>\n",
       "  <tbody>\n",
       "    <tr>\n",
       "      <th>0</th>\n",
       "      <td>201</td>\n",
       "      <td>10018</td>\n",
       "      <td>250</td>\n",
       "      <td>yes</td>\n",
       "    </tr>\n",
       "    <tr>\n",
       "      <th>1</th>\n",
       "      <td>205</td>\n",
       "      <td>10016</td>\n",
       "      <td>395</td>\n",
       "      <td>yes</td>\n",
       "    </tr>\n",
       "    <tr>\n",
       "      <th>2</th>\n",
       "      <td>257</td>\n",
       "      <td>10129</td>\n",
       "      <td>109</td>\n",
       "      <td>yes</td>\n",
       "    </tr>\n",
       "    <tr>\n",
       "      <th>3</th>\n",
       "      <td>246</td>\n",
       "      <td>10064</td>\n",
       "      <td>324</td>\n",
       "      <td>yes</td>\n",
       "    </tr>\n",
       "    <tr>\n",
       "      <th>4</th>\n",
       "      <td>117</td>\n",
       "      <td>10115</td>\n",
       "      <td>496</td>\n",
       "      <td>yes</td>\n",
       "    </tr>\n",
       "  </tbody>\n",
       "</table>\n",
       "</div>"
      ],
      "text/plain": [
       "   Initial payment  Last payment  Credit Score Result\n",
       "0              201         10018           250    yes\n",
       "1              205         10016           395    yes\n",
       "2              257         10129           109    yes\n",
       "3              246         10064           324    yes\n",
       "4              117         10115           496    yes"
      ]
     },
     "execution_count": 11,
     "metadata": {},
     "output_type": "execute_result"
    }
   ],
   "source": [
    "balance_data.head()"
   ]
  },
  {
   "cell_type": "code",
   "execution_count": 10,
   "metadata": {},
   "outputs": [
    {
     "data": {
      "text/plain": [
       "Initial payment    0\n",
       "Last payment       0\n",
       "Credit Score       0\n",
       "Result             0\n",
       "dtype: int64"
      ]
     },
     "execution_count": 10,
     "metadata": {},
     "output_type": "execute_result"
    }
   ],
   "source": [
    "balance_data.isna().sum()"
   ]
  },
  {
   "cell_type": "code",
   "execution_count": null,
   "metadata": {},
   "outputs": [],
   "source": []
  },
  {
   "cell_type": "code",
   "execution_count": 13,
   "metadata": {},
   "outputs": [],
   "source": [
    "X = balance_data[[\"Initial payment\", \"Last payment\",\"Credit Score\"]].values\n",
    "Y = balance_data[\"Result\"].values"
   ]
  },
  {
   "cell_type": "code",
   "execution_count": 14,
   "metadata": {},
   "outputs": [
    {
     "data": {
      "text/plain": [
       "array([[  201, 10018,   250],\n",
       "       [  205, 10016,   395],\n",
       "       [  257, 10129,   109],\n",
       "       ...,\n",
       "       [  316, 14872,   613],\n",
       "       [  305, 14926,   897],\n",
       "       [  168, 14798,   834]], dtype=int64)"
      ]
     },
     "execution_count": 14,
     "metadata": {},
     "output_type": "execute_result"
    }
   ],
   "source": [
    "X"
   ]
  },
  {
   "cell_type": "code",
   "execution_count": 17,
   "metadata": {},
   "outputs": [
    {
     "data": {
      "text/plain": [
       "array(['yes', 'yes', 'yes', 'yes', 'yes', 'yes', 'yes', 'yes', 'yes',\n",
       "       'yes'], dtype=object)"
      ]
     },
     "execution_count": 17,
     "metadata": {},
     "output_type": "execute_result"
    }
   ],
   "source": [
    "Y[:10]"
   ]
  },
  {
   "cell_type": "code",
   "execution_count": 19,
   "metadata": {},
   "outputs": [],
   "source": [
    "X_train, X_test, y_train, y_test = train_test_split( X, Y, test_size = 0.3)"
   ]
  },
  {
   "cell_type": "code",
   "execution_count": 20,
   "metadata": {},
   "outputs": [
    {
     "data": {
      "text/html": [
       "<style>#sk-container-id-1 {color: black;background-color: white;}#sk-container-id-1 pre{padding: 0;}#sk-container-id-1 div.sk-toggleable {background-color: white;}#sk-container-id-1 label.sk-toggleable__label {cursor: pointer;display: block;width: 100%;margin-bottom: 0;padding: 0.3em;box-sizing: border-box;text-align: center;}#sk-container-id-1 label.sk-toggleable__label-arrow:before {content: \"▸\";float: left;margin-right: 0.25em;color: #696969;}#sk-container-id-1 label.sk-toggleable__label-arrow:hover:before {color: black;}#sk-container-id-1 div.sk-estimator:hover label.sk-toggleable__label-arrow:before {color: black;}#sk-container-id-1 div.sk-toggleable__content {max-height: 0;max-width: 0;overflow: hidden;text-align: left;background-color: #f0f8ff;}#sk-container-id-1 div.sk-toggleable__content pre {margin: 0.2em;color: black;border-radius: 0.25em;background-color: #f0f8ff;}#sk-container-id-1 input.sk-toggleable__control:checked~div.sk-toggleable__content {max-height: 200px;max-width: 100%;overflow: auto;}#sk-container-id-1 input.sk-toggleable__control:checked~label.sk-toggleable__label-arrow:before {content: \"▾\";}#sk-container-id-1 div.sk-estimator input.sk-toggleable__control:checked~label.sk-toggleable__label {background-color: #d4ebff;}#sk-container-id-1 div.sk-label input.sk-toggleable__control:checked~label.sk-toggleable__label {background-color: #d4ebff;}#sk-container-id-1 input.sk-hidden--visually {border: 0;clip: rect(1px 1px 1px 1px);clip: rect(1px, 1px, 1px, 1px);height: 1px;margin: -1px;overflow: hidden;padding: 0;position: absolute;width: 1px;}#sk-container-id-1 div.sk-estimator {font-family: monospace;background-color: #f0f8ff;border: 1px dotted black;border-radius: 0.25em;box-sizing: border-box;margin-bottom: 0.5em;}#sk-container-id-1 div.sk-estimator:hover {background-color: #d4ebff;}#sk-container-id-1 div.sk-parallel-item::after {content: \"\";width: 100%;border-bottom: 1px solid gray;flex-grow: 1;}#sk-container-id-1 div.sk-label:hover label.sk-toggleable__label {background-color: #d4ebff;}#sk-container-id-1 div.sk-serial::before {content: \"\";position: absolute;border-left: 1px solid gray;box-sizing: border-box;top: 0;bottom: 0;left: 50%;z-index: 0;}#sk-container-id-1 div.sk-serial {display: flex;flex-direction: column;align-items: center;background-color: white;padding-right: 0.2em;padding-left: 0.2em;position: relative;}#sk-container-id-1 div.sk-item {position: relative;z-index: 1;}#sk-container-id-1 div.sk-parallel {display: flex;align-items: stretch;justify-content: center;background-color: white;position: relative;}#sk-container-id-1 div.sk-item::before, #sk-container-id-1 div.sk-parallel-item::before {content: \"\";position: absolute;border-left: 1px solid gray;box-sizing: border-box;top: 0;bottom: 0;left: 50%;z-index: -1;}#sk-container-id-1 div.sk-parallel-item {display: flex;flex-direction: column;z-index: 1;position: relative;background-color: white;}#sk-container-id-1 div.sk-parallel-item:first-child::after {align-self: flex-end;width: 50%;}#sk-container-id-1 div.sk-parallel-item:last-child::after {align-self: flex-start;width: 50%;}#sk-container-id-1 div.sk-parallel-item:only-child::after {width: 0;}#sk-container-id-1 div.sk-dashed-wrapped {border: 1px dashed gray;margin: 0 0.4em 0.5em 0.4em;box-sizing: border-box;padding-bottom: 0.4em;background-color: white;}#sk-container-id-1 div.sk-label label {font-family: monospace;font-weight: bold;display: inline-block;line-height: 1.2em;}#sk-container-id-1 div.sk-label-container {text-align: center;}#sk-container-id-1 div.sk-container {/* jupyter's `normalize.less` sets `[hidden] { display: none; }` but bootstrap.min.css set `[hidden] { display: none !important; }` so we also need the `!important` here to be able to override the default hidden behavior on the sphinx rendered scikit-learn.org. See: https://github.com/scikit-learn/scikit-learn/issues/21755 */display: inline-block !important;position: relative;}#sk-container-id-1 div.sk-text-repr-fallback {display: none;}</style><div id=\"sk-container-id-1\" class=\"sk-top-container\"><div class=\"sk-text-repr-fallback\"><pre>DecisionTreeClassifier()</pre><b>In a Jupyter environment, please rerun this cell to show the HTML representation or trust the notebook. <br />On GitHub, the HTML representation is unable to render, please try loading this page with nbviewer.org.</b></div><div class=\"sk-container\" hidden><div class=\"sk-item\"><div class=\"sk-estimator sk-toggleable\"><input class=\"sk-toggleable__control sk-hidden--visually\" id=\"sk-estimator-id-1\" type=\"checkbox\" checked><label for=\"sk-estimator-id-1\" class=\"sk-toggleable__label sk-toggleable__label-arrow\">DecisionTreeClassifier</label><div class=\"sk-toggleable__content\"><pre>DecisionTreeClassifier()</pre></div></div></div></div></div>"
      ],
      "text/plain": [
       "DecisionTreeClassifier()"
      ]
     },
     "execution_count": 20,
     "metadata": {},
     "output_type": "execute_result"
    }
   ],
   "source": [
    "from sklearn.tree import DecisionTreeClassifier\n",
    "\n",
    "model = DecisionTreeClassifier()\n",
    "\n",
    "#training the model\n",
    "model.fit(X_train, y_train)"
   ]
  },
  {
   "cell_type": "code",
   "execution_count": 21,
   "metadata": {},
   "outputs": [
    {
     "name": "stdout",
     "output_type": "stream",
     "text": [
      "|--- feature_1 <= 12336.00\n",
      "|   |--- feature_1 <= 11552.00\n",
      "|   |   |--- feature_0 <= 485.50\n",
      "|   |   |   |--- feature_1 <= 11484.50\n",
      "|   |   |   |   |--- class: yes\n",
      "|   |   |   |--- feature_1 >  11484.50\n",
      "|   |   |   |   |--- feature_1 <= 11490.50\n",
      "|   |   |   |   |   |--- class: No\n",
      "|   |   |   |   |--- feature_1 >  11490.50\n",
      "|   |   |   |   |   |--- class: yes\n",
      "|   |   |--- feature_0 >  485.50\n",
      "|   |   |   |--- feature_0 <= 488.00\n",
      "|   |   |   |   |--- class: No\n",
      "|   |   |   |--- feature_0 >  488.00\n",
      "|   |   |   |   |--- class: yes\n",
      "|   |--- feature_1 >  11552.00\n",
      "|   |   |--- feature_2 <= 872.00\n",
      "|   |   |   |--- feature_1 <= 12052.00\n",
      "|   |   |   |   |--- feature_2 <= 433.00\n",
      "|   |   |   |   |   |--- feature_0 <= 403.00\n",
      "|   |   |   |   |   |   |--- class: yes\n",
      "|   |   |   |   |   |--- feature_0 >  403.00\n",
      "|   |   |   |   |   |   |--- feature_0 <= 422.00\n",
      "|   |   |   |   |   |   |   |--- class: No\n",
      "|   |   |   |   |   |   |--- feature_0 >  422.00\n",
      "|   |   |   |   |   |   |   |--- class: yes\n",
      "|   |   |   |   |--- feature_2 >  433.00\n",
      "|   |   |   |   |   |--- feature_2 <= 438.00\n",
      "|   |   |   |   |   |   |--- class: No\n",
      "|   |   |   |   |   |--- feature_2 >  438.00\n",
      "|   |   |   |   |   |   |--- feature_0 <= 147.50\n",
      "|   |   |   |   |   |   |   |--- feature_0 <= 144.00\n",
      "|   |   |   |   |   |   |   |   |--- class: yes\n",
      "|   |   |   |   |   |   |   |--- feature_0 >  144.00\n",
      "|   |   |   |   |   |   |   |   |--- class: No\n",
      "|   |   |   |   |   |   |--- feature_0 >  147.50\n",
      "|   |   |   |   |   |   |   |--- feature_0 <= 296.00\n",
      "|   |   |   |   |   |   |   |   |--- feature_1 <= 11966.50\n",
      "|   |   |   |   |   |   |   |   |   |--- class: yes\n",
      "|   |   |   |   |   |   |   |   |--- feature_1 >  11966.50\n",
      "|   |   |   |   |   |   |   |   |   |--- feature_1 <= 12002.50\n",
      "|   |   |   |   |   |   |   |   |   |   |--- class: No\n",
      "|   |   |   |   |   |   |   |   |   |--- feature_1 >  12002.50\n",
      "|   |   |   |   |   |   |   |   |   |   |--- class: yes\n",
      "|   |   |   |   |   |   |   |--- feature_0 >  296.00\n",
      "|   |   |   |   |   |   |   |   |--- feature_0 <= 338.50\n",
      "|   |   |   |   |   |   |   |   |   |--- class: No\n",
      "|   |   |   |   |   |   |   |   |--- feature_0 >  338.50\n",
      "|   |   |   |   |   |   |   |   |   |--- class: yes\n",
      "|   |   |   |--- feature_1 >  12052.00\n",
      "|   |   |   |   |--- feature_2 <= 668.50\n",
      "|   |   |   |   |   |--- feature_1 <= 12119.50\n",
      "|   |   |   |   |   |   |--- class: No\n",
      "|   |   |   |   |   |--- feature_1 >  12119.50\n",
      "|   |   |   |   |   |   |--- feature_1 <= 12156.50\n",
      "|   |   |   |   |   |   |   |--- class: yes\n",
      "|   |   |   |   |   |   |--- feature_1 >  12156.50\n",
      "|   |   |   |   |   |   |   |--- feature_1 <= 12251.00\n",
      "|   |   |   |   |   |   |   |   |--- feature_1 <= 12170.00\n",
      "|   |   |   |   |   |   |   |   |   |--- class: No\n",
      "|   |   |   |   |   |   |   |   |--- feature_1 >  12170.00\n",
      "|   |   |   |   |   |   |   |   |   |--- feature_1 <= 12183.00\n",
      "|   |   |   |   |   |   |   |   |   |   |--- class: yes\n",
      "|   |   |   |   |   |   |   |   |   |--- feature_1 >  12183.00\n",
      "|   |   |   |   |   |   |   |   |   |   |--- feature_0 <= 202.50\n",
      "|   |   |   |   |   |   |   |   |   |   |   |--- class: No\n",
      "|   |   |   |   |   |   |   |   |   |   |--- feature_0 >  202.50\n",
      "|   |   |   |   |   |   |   |   |   |   |   |--- truncated branch of depth 4\n",
      "|   |   |   |   |   |   |   |--- feature_1 >  12251.00\n",
      "|   |   |   |   |   |   |   |   |--- feature_0 <= 305.50\n",
      "|   |   |   |   |   |   |   |   |   |--- feature_0 <= 244.00\n",
      "|   |   |   |   |   |   |   |   |   |   |--- class: yes\n",
      "|   |   |   |   |   |   |   |   |   |--- feature_0 >  244.00\n",
      "|   |   |   |   |   |   |   |   |   |   |--- feature_1 <= 12295.50\n",
      "|   |   |   |   |   |   |   |   |   |   |   |--- truncated branch of depth 2\n",
      "|   |   |   |   |   |   |   |   |   |   |--- feature_1 >  12295.50\n",
      "|   |   |   |   |   |   |   |   |   |   |   |--- class: No\n",
      "|   |   |   |   |   |   |   |   |--- feature_0 >  305.50\n",
      "|   |   |   |   |   |   |   |   |   |--- class: yes\n",
      "|   |   |   |   |--- feature_2 >  668.50\n",
      "|   |   |   |   |   |--- class: yes\n",
      "|   |   |--- feature_2 >  872.00\n",
      "|   |   |   |--- feature_2 <= 937.50\n",
      "|   |   |   |   |--- feature_1 <= 12141.00\n",
      "|   |   |   |   |   |--- class: No\n",
      "|   |   |   |   |--- feature_1 >  12141.00\n",
      "|   |   |   |   |   |--- class: yes\n",
      "|   |   |   |--- feature_2 >  937.50\n",
      "|   |   |   |   |--- feature_1 <= 11801.50\n",
      "|   |   |   |   |   |--- class: yes\n",
      "|   |   |   |   |--- feature_1 >  11801.50\n",
      "|   |   |   |   |   |--- feature_2 <= 978.50\n",
      "|   |   |   |   |   |   |--- feature_2 <= 964.50\n",
      "|   |   |   |   |   |   |   |--- class: No\n",
      "|   |   |   |   |   |   |--- feature_2 >  964.50\n",
      "|   |   |   |   |   |   |   |--- class: yes\n",
      "|   |   |   |   |   |--- feature_2 >  978.50\n",
      "|   |   |   |   |   |   |--- class: No\n",
      "|--- feature_1 >  12336.00\n",
      "|   |--- feature_1 <= 13054.00\n",
      "|   |   |--- feature_2 <= 579.00\n",
      "|   |   |   |--- feature_1 <= 12518.00\n",
      "|   |   |   |   |--- feature_2 <= 281.00\n",
      "|   |   |   |   |   |--- feature_1 <= 12456.00\n",
      "|   |   |   |   |   |   |--- class: No\n",
      "|   |   |   |   |   |--- feature_1 >  12456.00\n",
      "|   |   |   |   |   |   |--- class: yes\n",
      "|   |   |   |   |--- feature_2 >  281.00\n",
      "|   |   |   |   |   |--- feature_0 <= 317.00\n",
      "|   |   |   |   |   |   |--- feature_1 <= 12425.00\n",
      "|   |   |   |   |   |   |   |--- class: yes\n",
      "|   |   |   |   |   |   |--- feature_1 >  12425.00\n",
      "|   |   |   |   |   |   |   |--- class: No\n",
      "|   |   |   |   |   |--- feature_0 >  317.00\n",
      "|   |   |   |   |   |   |--- class: yes\n",
      "|   |   |   |--- feature_1 >  12518.00\n",
      "|   |   |   |   |--- feature_0 <= 287.50\n",
      "|   |   |   |   |   |--- feature_1 <= 12688.50\n",
      "|   |   |   |   |   |   |--- feature_1 <= 12546.50\n",
      "|   |   |   |   |   |   |   |--- class: yes\n",
      "|   |   |   |   |   |   |--- feature_1 >  12546.50\n",
      "|   |   |   |   |   |   |   |--- class: No\n",
      "|   |   |   |   |   |--- feature_1 >  12688.50\n",
      "|   |   |   |   |   |   |--- feature_2 <= 142.50\n",
      "|   |   |   |   |   |   |   |--- class: No\n",
      "|   |   |   |   |   |   |--- feature_2 >  142.50\n",
      "|   |   |   |   |   |   |   |--- feature_2 <= 418.50\n",
      "|   |   |   |   |   |   |   |   |--- class: yes\n",
      "|   |   |   |   |   |   |   |--- feature_2 >  418.50\n",
      "|   |   |   |   |   |   |   |   |--- feature_0 <= 198.00\n",
      "|   |   |   |   |   |   |   |   |   |--- class: yes\n",
      "|   |   |   |   |   |   |   |   |--- feature_0 >  198.00\n",
      "|   |   |   |   |   |   |   |   |   |--- class: No\n",
      "|   |   |   |   |--- feature_0 >  287.50\n",
      "|   |   |   |   |   |--- feature_0 <= 488.50\n",
      "|   |   |   |   |   |   |--- feature_2 <= 536.00\n",
      "|   |   |   |   |   |   |   |--- feature_2 <= 350.50\n",
      "|   |   |   |   |   |   |   |   |--- feature_2 <= 311.50\n",
      "|   |   |   |   |   |   |   |   |   |--- class: No\n",
      "|   |   |   |   |   |   |   |   |--- feature_2 >  311.50\n",
      "|   |   |   |   |   |   |   |   |   |--- class: yes\n",
      "|   |   |   |   |   |   |   |--- feature_2 >  350.50\n",
      "|   |   |   |   |   |   |   |   |--- class: No\n",
      "|   |   |   |   |   |   |--- feature_2 >  536.00\n",
      "|   |   |   |   |   |   |   |--- class: yes\n",
      "|   |   |   |   |   |--- feature_0 >  488.50\n",
      "|   |   |   |   |   |   |--- class: yes\n",
      "|   |   |--- feature_2 >  579.00\n",
      "|   |   |   |--- feature_0 <= 116.50\n",
      "|   |   |   |   |--- class: yes\n",
      "|   |   |   |--- feature_0 >  116.50\n",
      "|   |   |   |   |--- feature_0 <= 475.00\n",
      "|   |   |   |   |   |--- class: No\n",
      "|   |   |   |   |--- feature_0 >  475.00\n",
      "|   |   |   |   |   |--- feature_1 <= 12413.50\n",
      "|   |   |   |   |   |   |--- class: yes\n",
      "|   |   |   |   |   |--- feature_1 >  12413.50\n",
      "|   |   |   |   |   |   |--- class: No\n",
      "|   |--- feature_1 >  13054.00\n",
      "|   |   |--- feature_0 <= 103.50\n",
      "|   |   |   |--- feature_2 <= 360.00\n",
      "|   |   |   |   |--- class: yes\n",
      "|   |   |   |--- feature_2 >  360.00\n",
      "|   |   |   |   |--- class: No\n",
      "|   |   |--- feature_0 >  103.50\n",
      "|   |   |   |--- feature_1 <= 13235.50\n",
      "|   |   |   |   |--- feature_2 <= 177.00\n",
      "|   |   |   |   |   |--- feature_0 <= 263.50\n",
      "|   |   |   |   |   |   |--- class: yes\n",
      "|   |   |   |   |   |--- feature_0 >  263.50\n",
      "|   |   |   |   |   |   |--- class: No\n",
      "|   |   |   |   |--- feature_2 >  177.00\n",
      "|   |   |   |   |   |--- class: No\n",
      "|   |   |   |--- feature_1 >  13235.50\n",
      "|   |   |   |   |--- feature_0 <= 128.50\n",
      "|   |   |   |   |   |--- feature_0 <= 127.50\n",
      "|   |   |   |   |   |   |--- class: No\n",
      "|   |   |   |   |   |--- feature_0 >  127.50\n",
      "|   |   |   |   |   |   |--- feature_1 <= 14102.50\n",
      "|   |   |   |   |   |   |   |--- class: yes\n",
      "|   |   |   |   |   |   |--- feature_1 >  14102.50\n",
      "|   |   |   |   |   |   |   |--- class: No\n",
      "|   |   |   |   |--- feature_0 >  128.50\n",
      "|   |   |   |   |   |--- class: No\n",
      "\n"
     ]
    }
   ],
   "source": [
    "text_representation = tree.export_text(model)\n",
    "print(text_representation)"
   ]
  },
  {
   "cell_type": "code",
   "execution_count": null,
   "metadata": {},
   "outputs": [],
   "source": []
  },
  {
   "cell_type": "code",
   "execution_count": 22,
   "metadata": {},
   "outputs": [],
   "source": [
    "y_pred = model.predict(X_test)\n"
   ]
  },
  {
   "cell_type": "code",
   "execution_count": 23,
   "metadata": {},
   "outputs": [
    {
     "name": "stdout",
     "output_type": "stream",
     "text": [
      "Accuracy is  87.0\n"
     ]
    }
   ],
   "source": [
    "print (\"Accuracy is \", accuracy_score(y_test,y_pred)*100)"
   ]
  },
  {
   "cell_type": "code",
   "execution_count": 24,
   "metadata": {},
   "outputs": [],
   "source": [
    "y_train_pred = model.predict(X_train)"
   ]
  },
  {
   "cell_type": "code",
   "execution_count": 25,
   "metadata": {},
   "outputs": [
    {
     "name": "stdout",
     "output_type": "stream",
     "text": [
      "Accuracy is  100.0\n"
     ]
    }
   ],
   "source": [
    "print (\"Accuracy is \", accuracy_score(y_train, y_train_pred)*100)"
   ]
  },
  {
   "cell_type": "code",
   "execution_count": null,
   "metadata": {},
   "outputs": [],
   "source": [
    "#Overfitting"
   ]
  },
  {
   "cell_type": "code",
   "execution_count": null,
   "metadata": {},
   "outputs": [],
   "source": [
    "#pruning"
   ]
  },
  {
   "cell_type": "code",
   "execution_count": 26,
   "metadata": {},
   "outputs": [],
   "source": [
    "import joblib"
   ]
  },
  {
   "cell_type": "code",
   "execution_count": 28,
   "metadata": {},
   "outputs": [
    {
     "data": {
      "text/plain": [
       "['C:\\\\Users\\\\vansh\\\\Desktop\\\\PC\\\\ML\\\\Sunstone\\\\model\\\\loan_model_DT.pkl']"
      ]
     },
     "execution_count": 28,
     "metadata": {},
     "output_type": "execute_result"
    }
   ],
   "source": [
    "joblib.dump(model, r\"C:\\Users\\vansh\\Desktop\\PC\\ML\\Sunstone\\model\\loan_model_DT.pkl\")"
   ]
  }
 ],
 "metadata": {
  "kernelspec": {
   "display_name": "Python 3 (ipykernel)",
   "language": "python",
   "name": "python3"
  },
  "language_info": {
   "codemirror_mode": {
    "name": "ipython",
    "version": 3
   },
   "file_extension": ".py",
   "mimetype": "text/x-python",
   "name": "python",
   "nbconvert_exporter": "python",
   "pygments_lexer": "ipython3",
   "version": "3.11.7"
  }
 },
 "nbformat": 4,
 "nbformat_minor": 4
}
